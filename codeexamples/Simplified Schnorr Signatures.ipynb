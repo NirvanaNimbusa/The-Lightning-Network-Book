{
 "cells": [
  {
   "cell_type": "markdown",
   "metadata": {},
   "source": [
    "# Schnorr Signatures\n",
    "\n",
    "we start by defining schnorr signatures on a cyclic group of order 23. This group might have come from an elliptic curve. In any case these signatures are not strong!\n",
    "However we use such a small example to be able to actually comprehend all calculations. We would even be able to do them on a sheet of paper!\n",
    "\n",
    "Learn more about this code in my educational video about Schnorr Signatures: https://youtu.be/n5aompcR9W0"
   ]
  },
  {
   "cell_type": "code",
   "execution_count": 1,
   "metadata": {},
   "outputs": [],
   "source": [
    "import random"
   ]
  },
  {
   "cell_type": "code",
   "execution_count": 2,
   "metadata": {},
   "outputs": [],
   "source": [
    "p=23\n",
    "points = {i: chr(97+i) for i in range(p)}"
   ]
  },
  {
   "cell_type": "code",
   "execution_count": 3,
   "metadata": {},
   "outputs": [
    {
     "name": "stdout",
     "output_type": "stream",
     "text": [
      "private keys are numbers with 0 <= n < 23\n",
      "1st keypair: (x_a,A)=(17,r)\n",
      "2nd keypair: (x_b,B)=(15,p)\n"
     ]
    }
   ],
   "source": [
    "print(\"private keys are numbers with 0 <= n < 23\")\n",
    "x_a = 17  # random.randint(0,22)\n",
    "x_b = 15  # random.randint(0,22)\n",
    "\n",
    "A = points[x_a]\n",
    "B = points[x_b]\n",
    "\n",
    "print(\"1st keypair: (x_a,A)=({},{})\".format(x_a, A))\n",
    "print(\"2nd keypair: (x_b,B)=({},{})\".format(x_b, B))"
   ]
  },
  {
   "cell_type": "code",
   "execution_count": 4,
   "metadata": {},
   "outputs": [],
   "source": [
    "def H(string):\n",
    "    \"\"\" poor hashfunction for Z/23Z\n",
    "\n",
    "    I did not even check if it is a proper hash function. In general\n",
    "    mod prime is not too bad. but since the alphabet has 26 letters\n",
    "    we might run into some stupid collisions.\n",
    "    Also since the space is so clear it is quite clear how results\n",
    "    will change once we flip a letter.\n",
    "    \"\"\"\n",
    "    res = 0\n",
    "    for c in string:\n",
    "        res += ord(c)\n",
    "    return res % p"
   ]
  },
  {
   "cell_type": "code",
   "execution_count": 5,
   "metadata": {},
   "outputs": [
    {
     "name": "stdout",
     "output_type": "stream",
     "text": [
      "test our 'hash' function on two hashes...\n",
      "message: \"Bitcoin Transaction\" hash: 16\n",
      "message: \"Bitcoin transaction\" hash: 2\n",
      "message: \"this is our message which should be signed\" hash: 7\n"
     ]
    }
   ],
   "source": [
    "print(\"test our 'hash' function on two hashes...\")\n",
    "message = \"Bitcoin Transaction\"\n",
    "print(\"message:\", \"\\\"{}\\\"\".format(message), \"hash:\", H(message))\n",
    "message = \"Bitcoin transaction\"\n",
    "print(\"message:\", \"\\\"{}\\\"\".format(message), \"hash:\", H(message))\n",
    "\n",
    "\n",
    "message = \"this is our message which should be signed\"\n",
    "print(\"message:\", \"\\\"{}\\\"\".format(message), \"hash:\", H(message))"
   ]
  },
  {
   "cell_type": "code",
   "execution_count": 6,
   "metadata": {},
   "outputs": [
    {
     "name": "stdout",
     "output_type": "stream",
     "text": [
      "compute partial signatures...\n",
      "  random nonce for signature: 11\n",
      "  random nonce for signature: 3\n"
     ]
    }
   ],
   "source": [
    " def sign(m, priv):\n",
    "    r = random.randint(0, 22)\n",
    "    print(\"  random nonce for signature:\",r)\n",
    "    return (r + H(m)*priv) % p, points[r]\n",
    "\n",
    "print(\"compute partial signatures...\")\n",
    "s_a, R_a = sign(message, x_a)\n",
    "s_b, R_b = sign(message, x_b)"
   ]
  },
  {
   "cell_type": "markdown",
   "metadata": {},
   "source": [
    "Our group is actualy a 1 dimentional vector space over the prime field F_{23}\n",
    "\n",
    "So let us call elements in F_{23} scalars and define a scala multiplication"
   ]
  },
  {
   "cell_type": "code",
   "execution_count": 7,
   "metadata": {},
   "outputs": [],
   "source": [
    "def add_points(a, b):\n",
    "    \"\"\"\n",
    "    This is only working because we constructed our group in a way\n",
    "    that we know the discret logarithm. This entire construction \n",
    "    MUST NOT be used and is only for educational purpose anyway.\n",
    "    \"\"\"\n",
    "    a = ord(a)-97\n",
    "    b = ord(b)-97\n",
    "    res = a+b\n",
    "    res = res % p\n",
    "    return points[res]\n",
    "\n",
    "def scalar_mult_point(scalar, point):\n",
    "    \"\"\" this could also be way more efficient \"\"\"\n",
    "    if scalar == 0:\n",
    "        scalar = p\n",
    "    res = point\n",
    "    for i in range(scalar-1):\n",
    "        res = add_points(res, point)\n",
    "    return res\n",
    "\n",
    "\n",
    "\n",
    "def verify(s, R, m, pup):\n",
    "    lhs = points[s]\n",
    "    rhs = add_points(R, scalar_mult_point(H(m), pup))\n",
    "    return lhs == rhs"
   ]
  },
  {
   "cell_type": "code",
   "execution_count": 8,
   "metadata": {},
   "outputs": [
    {
     "name": "stdout",
     "output_type": "stream",
     "text": [
      "Verify partial signatures\n",
      "(s_a,R_a) = (15,l) is a True signature for key A\n",
      "(s_b,R_b) = (16,d) is a True signature for key B\n",
      "(s_a,R_a) = (16,l) is a False signature for key A\n",
      "(s_a,R_a) = (15,n) is a False signature for key A\n"
     ]
    }
   ],
   "source": [
    "print(\"Verify partial signatures\")\n",
    "print(\"(s_a,R_a) = ({},{}) is a {} signature for key A\".format(s_a, R_a, verify(s_a, R_a, message, A)))\n",
    "print(\"(s_b,R_b) = ({},{}) is a {} signature for key B\".format(s_b, R_b, verify(s_b, R_b, message, B)))\n",
    "print(\"(s_a,R_a) = ({},{}) is a {} signature for key A\".format((s_a+1)%p, R_a, verify((s_a+1)%p, R_a, message, A)))\n",
    "print(\"(s_a,R_a) = ({},{}) is a {} signature for key A\".format(s_a, add_points(R_a,'c'), verify(s_a, add_points(R_a,'c'), message, A)))"
   ]
  }
 ],
 "metadata": {
  "kernelspec": {
   "display_name": "Python 3",
   "language": "python",
   "name": "python3"
  },
  "language_info": {
   "codemirror_mode": {
    "name": "ipython",
    "version": 3
   },
   "file_extension": ".py",
   "mimetype": "text/x-python",
   "name": "python",
   "nbconvert_exporter": "python",
   "pygments_lexer": "ipython3",
   "version": "3.6.4"
  }
 },
 "nbformat": 4,
 "nbformat_minor": 2
}
